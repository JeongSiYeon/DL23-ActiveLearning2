{
  "nbformat": 4,
  "nbformat_minor": 0,
  "metadata": {
    "colab": {
      "provenance": []
    },
    "kernelspec": {
      "name": "python3",
      "display_name": "Python 3"
    },
    "language_info": {
      "name": "python"
    }
  },
  "cells": [
    {
      "cell_type": "code",
      "source": [
        "from google.colab import drive\n",
        "drive.mount('/content/drive')"
      ],
      "metadata": {
        "colab": {
          "base_uri": "https://localhost:8080/"
        },
        "id": "pnyKOOUmV8_w",
        "outputId": "435ad456-e6ff-45ed-f846-74ed09a4cf21"
      },
      "execution_count": 1,
      "outputs": [
        {
          "output_type": "stream",
          "name": "stdout",
          "text": [
            "Mounted at /content/drive\n"
          ]
        }
      ]
    },
    {
      "cell_type": "code",
      "source": [
        "cd /content/drive/MyDrive/yolov5-transfer-learning/yolov5"
      ],
      "metadata": {
        "colab": {
          "base_uri": "https://localhost:8080/"
        },
        "id": "_O6PlnWGV-gb",
        "outputId": "205d5900-ef91-46be-faef-2155068d289c"
      },
      "execution_count": 3,
      "outputs": [
        {
          "output_type": "stream",
          "name": "stdout",
          "text": [
            "/content/drive/MyDrive/yolov5-transfer-learning/yolov5\n"
          ]
        }
      ]
    },
    {
      "cell_type": "code",
      "source": [
        "!python detect.py --weights '/content/drive/MyDrive/yolov5-transfer-learning/yolov5/runs/train/exp2/weights/best.pt' --img 600 --conf 0.4 --source '/content/drive/MyDrive/yolov5-transfer-learning/hazzi.jpg'"
      ],
      "metadata": {
        "colab": {
          "base_uri": "https://localhost:8080/"
        },
        "id": "qqaWNfmfWMQn",
        "outputId": "62e5ad68-984d-4676-8525-ff765ef78d6d"
      },
      "execution_count": 9,
      "outputs": [
        {
          "output_type": "stream",
          "name": "stdout",
          "text": [
            "\u001b[34m\u001b[1mdetect: \u001b[0mweights=['/content/drive/MyDrive/yolov5-transfer-learning/yolov5/runs/train/exp2/weights/best.pt'], source=/content/drive/MyDrive/yolov5-transfer-learning/hazzi.jpg, data=data/coco128.yaml, imgsz=[600, 600], conf_thres=0.4, iou_thres=0.45, max_det=1000, device=, view_img=False, save_txt=False, save_conf=False, save_crop=False, nosave=False, classes=None, agnostic_nms=False, augment=False, visualize=False, update=False, project=runs/detect, name=exp, exist_ok=False, line_thickness=3, hide_labels=False, hide_conf=False, half=False, dnn=False, vid_stride=1\n",
            "YOLOv5 🚀 v7.0-172-gc3c1304 Python-3.10.11 torch-2.0.1+cu118 CPU\n",
            "\n",
            "Fusing layers... \n",
            "Model summary: 157 layers, 7015519 parameters, 0 gradients\n",
            "WARNING ⚠️ --img-size [600, 600] must be multiple of max stride 32, updating to [608, 608]\n",
            "image 1/1 /content/drive/MyDrive/yolov5-transfer-learning/hazzi.jpg: 608x480 1 cat, 275.6ms\n",
            "Speed: 1.2ms pre-process, 275.6ms inference, 1.3ms NMS per image at shape (1, 3, 608, 608)\n",
            "Results saved to \u001b[1mruns/detect/exp2\u001b[0m\n"
          ]
        }
      ]
    }
  ]
}